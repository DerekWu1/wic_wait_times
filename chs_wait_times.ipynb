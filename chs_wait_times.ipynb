{
 "cells": [
  {
   "cell_type": "code",
   "execution_count": 22,
   "id": "cc1ae8ea-3720-4dc5-8ae3-b850f6718c63",
   "metadata": {},
   "outputs": [],
   "source": [
    "import gspread\n",
    "from oauth2client.service_account import ServiceAccountCredentials\n",
    "import requests\n",
    "import html\n",
    "import ast\n",
    "import time\n",
    "import pprint\n",
    "import pandas as pd\n",
    "import datetime\n",
    "import csv\n",
    "from bs4 import BeautifulSoup\n",
    "url = \"https://www.canberrahealthservices.act.gov.au/_designs/generic-modules/entitywaitingtimes/asset-listings/dynamic-wait-times-data-raw-asset-listing/_nocache\""
   ]
  },
  {
   "cell_type": "code",
   "execution_count": 4,
   "id": "63dc7937-d2d4-461a-b132-8664caa724b7",
   "metadata": {},
   "outputs": [],
   "source": [
    "curr_time = str(datetime.datetime.now())\n",
    "filename = 'chs_wait_times_'+curr_time+'.csv'"
   ]
  },
  {
   "cell_type": "code",
   "execution_count": 20,
   "id": "45e533b2",
   "metadata": {},
   "outputs": [],
   "source": [
    "# Set up Google Sheets API credentials\n",
    "key = 'MESSAGE_ME_FOR_MY_KEY'\n",
    "scope = [\"https://spreadsheets.google.com/feeds\", \"https://www.googleapis.com/auth/drive\"]\n",
    "creds = ServiceAccountCredentials.from_json_keyfile_name(key, scope)\n",
    "client = gspread.authorize(creds)\n",
    "\n",
    "# Open the Google Sheet (use the name or URL of your sheet)\n",
    "spreadsheet = client.open('wic_wait_times')\n",
    "worksheet = spreadsheet.get_worksheet(0)  # Open the first sheet"
   ]
  },
  {
   "cell_type": "code",
   "execution_count": 21,
   "id": "0fb9756f-c077-4334-b9de-17cab1b9c539",
   "metadata": {},
   "outputs": [
    {
     "name": "stdout",
     "output_type": "stream",
     "text": [
      "Successfully printed stats from ACT Health! Zzzz...\n"
     ]
    },
    {
     "ename": "KeyboardInterrupt",
     "evalue": "",
     "output_type": "error",
     "traceback": [
      "\u001b[0;31m---------------------------------------------------------------------------\u001b[0m",
      "\u001b[0;31mKeyboardInterrupt\u001b[0m                         Traceback (most recent call last)",
      "Cell \u001b[0;32mIn[21], line 42\u001b[0m\n\u001b[1;32m     40\u001b[0m             worksheet\u001b[38;5;241m.\u001b[39mappend_row(\u001b[38;5;28mlist\u001b[39m(row))  \u001b[38;5;66;03m# Append each row to Google Sheet\u001b[39;00m\n\u001b[1;32m     41\u001b[0m         \u001b[38;5;28mprint\u001b[39m(\u001b[38;5;124m\"\u001b[39m\u001b[38;5;124mSuccessfully printed stats from ACT Health! Zzzz...\u001b[39m\u001b[38;5;124m\"\u001b[39m)\n\u001b[0;32m---> 42\u001b[0m         \u001b[43mtime\u001b[49m\u001b[38;5;241;43m.\u001b[39;49m\u001b[43msleep\u001b[49m\u001b[43m(\u001b[49m\u001b[38;5;241;43m59\u001b[39;49m\u001b[43m)\u001b[49m\n\u001b[1;32m     43\u001b[0m \u001b[38;5;28;01mexcept\u001b[39;00m \u001b[38;5;167;01mException\u001b[39;00m \u001b[38;5;28;01mas\u001b[39;00m e:\n\u001b[1;32m     44\u001b[0m     \u001b[38;5;28mprint\u001b[39m(\u001b[38;5;28mstr\u001b[39m(datetime\u001b[38;5;241m.\u001b[39mdatetime\u001b[38;5;241m.\u001b[39mnow()))\n",
      "\u001b[0;31mKeyboardInterrupt\u001b[0m: "
     ]
    }
   ],
   "source": [
    "header_written = False\n",
    "\n",
    "try:\n",
    "    while True:\n",
    "        # Get current wait times as dictionary\n",
    "        response = requests.get(url)  # HTTP request\n",
    "        soup = BeautifulSoup(response.text, 'html.parser')  # Create parser\n",
    "        data_element = soup.find('div', id='divEntitiesJSON').get_text(strip=True)  # Get element from page\n",
    "        to_dict = ast.literal_eval(data_element)  # Convert to dictionary\n",
    "        \n",
    "        # Convert to single data row\n",
    "        rows = []\n",
    "        for entry in to_dict:\n",
    "            id_ = entry['id']\n",
    "            last_updated = entry['lastUpdated']\n",
    "            clinic_type = entry['type']\n",
    "            queue = next((x['queue'] for x in entry['waitTimes'] if x['name'] == 'Wait'), None)\n",
    "            wait_time = next((x['duration'] for x in entry['waitTimes'] if x['name'] == 'Wait'), None)\n",
    "            treat_time = next((x['duration'] for x in entry['waitTimes'] if x['name'] == 'Treat'), None)\n",
    "            total_time = next((x['duration'] for x in entry['waitTimes'] if x['name'] == 'Total'), None)\n",
    "            to_append = {\n",
    "                'id': id_,\n",
    "                'lastUpdated': last_updated,\n",
    "                'clinic_type': clinic_type,\n",
    "                'queue': queue,\n",
    "                'wait_time': wait_time,\n",
    "                'treat_time': treat_time,\n",
    "                'total_time': total_time\n",
    "            }\n",
    "            rows.append(to_append)\n",
    "        \n",
    "        # Convert rows to DataFrame\n",
    "        df = pd.DataFrame(rows)\n",
    "        \n",
    "        # Append DataFrame to Google Sheet\n",
    "        if not header_written:\n",
    "            worksheet.append_row(df.columns.tolist())  # Write headers to Google Sheet\n",
    "            header_written = True\n",
    "        \n",
    "        for row in df.itertuples(index=False, name=None):\n",
    "            worksheet.append_row(list(row))  # Append each row to Google Sheet\n",
    "        print(\"Successfully printed stats from ACT Health! Zzzz...\")\n",
    "        time.sleep(59)\n",
    "except Exception as e:\n",
    "    print(str(datetime.datetime.now()))\n",
    "    raise e"
   ]
  }
 ],
 "metadata": {
  "kernelspec": {
   "display_name": "Python 3 (ipykernel)",
   "language": "python",
   "name": "python3"
  },
  "language_info": {
   "codemirror_mode": {
    "name": "ipython",
    "version": 3
   },
   "file_extension": ".py",
   "mimetype": "text/x-python",
   "name": "python",
   "nbconvert_exporter": "python",
   "pygments_lexer": "ipython3",
   "version": "3.12.4"
  }
 },
 "nbformat": 4,
 "nbformat_minor": 5
}
