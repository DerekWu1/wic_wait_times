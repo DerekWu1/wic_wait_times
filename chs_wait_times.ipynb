{
 "cells": [
  {
   "cell_type": "code",
   "execution_count": 1,
   "id": "cc1ae8ea-3720-4dc5-8ae3-b850f6718c63",
   "metadata": {},
   "outputs": [],
   "source": [
    "import requests\n",
    "import html\n",
    "import ast\n",
    "import time\n",
    "import pprint\n",
    "import pandas as pd\n",
    "import datetime\n",
    "import csv\n",
    "from bs4 import BeautifulSoup\n",
    "url = \"https://www.canberrahealthservices.act.gov.au/_designs/generic-modules/entitywaitingtimes/asset-listings/dynamic-wait-times-data-raw-asset-listing/_nocache\""
   ]
  },
  {
   "cell_type": "code",
   "execution_count": 2,
   "id": "63dc7937-d2d4-461a-b132-8664caa724b7",
   "metadata": {},
   "outputs": [],
   "source": [
    "curr_time = str(datetime.datetime.now())\n",
    "filename = 'chs_wait_times_'+curr_time+'.csv'"
   ]
  },
  {
   "cell_type": "code",
   "execution_count": null,
   "id": "0fb9756f-c077-4334-b9de-17cab1b9c539",
   "metadata": {},
   "outputs": [],
   "source": [
    "header_written = False\n",
    "try:\n",
    "    while True:\n",
    "        # Get current wait times as dictionary\n",
    "        response = requests.get(url) # HTTP request\n",
    "        soup = BeautifulSoup(response.text,'html.parser') # Create parser\n",
    "        data_element = soup.find('div',id='divEntitiesJSON').get_text(strip=True) # Get element from page\n",
    "        to_dict = ast.literal_eval(data_element) # Convert to dictionary\n",
    "        \n",
    "        # Convert to single data row\n",
    "        rows = []\n",
    "        for entry in to_dict:\n",
    "            id_ = entry['id']\n",
    "            last_updated = entry['lastUpdated']\n",
    "            clinic_type = entry['type']\n",
    "            queue = next((x['queue'] for x in entry['waitTimes'] if x['name'] == 'Wait'), None)\n",
    "            wait_time = next((x['duration'] for x in entry['waitTimes'] if x['name'] == 'Wait'), None)\n",
    "            treat_time = next((x['duration'] for x in entry['waitTimes'] if x['name'] == 'Treat'), None)\n",
    "            total_time = next((x['duration'] for x in entry['waitTimes'] if x['name'] == 'Total'), None)\n",
    "            to_append = {\n",
    "                'id':id_,\n",
    "                'lastUpdated':last_updated,\n",
    "                'clinic_type':clinic_type,\n",
    "                'queue':queue,\n",
    "                'wait_time':wait_time,\n",
    "                'treat_time':treat_time,\n",
    "                'total_time':total_time\n",
    "            }\n",
    "            rows.append(to_append)\n",
    "        df = pd.DataFrame(rows)\n",
    "        with open(filename,mode='a',newline='') as file:\n",
    "            csv_writer = csv.writer(file)\n",
    "            if not header_written:\n",
    "                df.to_csv(file,header=True,index=False,mode='a')#,line_terminator='\\n')\n",
    "                header_written = True\n",
    "            else:\n",
    "                df.to_csv(file,header=False,index=False,mode='a')#,line_terminator='\\n')\n",
    "            #print('Successfully appended row, zzz')\n",
    "        time.sleep(59)\n",
    "except Exception as e:\n",
    "    print(str(datetime.datetime.now()))\n",
    "    raise(e)"
   ]
  },
  {
   "cell_type": "code",
   "execution_count": null,
   "id": "d9d47db5-8290-4059-a97b-bebcb91ea976",
   "metadata": {},
   "outputs": [],
   "source": []
  }
 ],
 "metadata": {
  "kernelspec": {
   "display_name": "Python 3 (ipykernel)",
   "language": "python",
   "name": "python3"
  },
  "language_info": {
   "codemirror_mode": {
    "name": "ipython",
    "version": 3
   },
   "file_extension": ".py",
   "mimetype": "text/x-python",
   "name": "python",
   "nbconvert_exporter": "python",
   "pygments_lexer": "ipython3",
   "version": "3.9.2"
  }
 },
 "nbformat": 4,
 "nbformat_minor": 5
}
